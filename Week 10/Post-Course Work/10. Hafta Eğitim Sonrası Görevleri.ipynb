{
 "cells": [
  {
   "attachments": {},
   "cell_type": "markdown",
   "metadata": {},
   "source": [
    "# Problem 1 "
   ]
  },
  {
   "cell_type": "code",
   "execution_count": 7,
   "metadata": {},
   "outputs": [
    {
     "name": "stdout",
     "output_type": "stream",
     "text": [
      "Orijinal Array: [3 5 1 4 3]\n",
      "Sıralanmış Array: [1 3 3 4 5]\n"
     ]
    }
   ],
   "source": [
    "# 1 - numpy kütüphanesini import edin\n",
    "\n",
    "import numpy as np\n",
    "\n",
    "# 2 - 5 elemanlı bir numpy array oluşturun\n",
    "\n",
    "array = np.random.randint(1, 6, size=5)\n",
    "\n",
    "# 3 - Oluşturduğunuz arrayi küçükten büyüğe sıralayın.\n",
    "\n",
    "sorted_array = np.sort(array)\n",
    "\n",
    "print(\"Orijinal Array:\", array)\n",
    "print(\"Sıralanmış Array:\", sorted_array)"
   ]
  },
  {
   "attachments": {},
   "cell_type": "markdown",
   "metadata": {},
   "source": [
    "# Problem 2"
   ]
  },
  {
   "cell_type": "code",
   "execution_count": 18,
   "metadata": {},
   "outputs": [
    {
     "name": "stdout",
     "output_type": "stream",
     "text": [
      "Array 1: [10 15 30 45 60]\n",
      "Array 2: [ 5  6  7  8  9 10 11 12 13 14 15]\n",
      "Array 3: [ 50  55  60  65  70  75  80  85  90  95 100]\n",
      "Array 4: [0. 0. 0. 0. 0. 0. 0. 0. 0. 0.]\n",
      "Array 5: [1. 1. 1. 1. 1. 1. 1. 1. 1. 1.]\n",
      "Array 6: [  0.  25.  50.  75. 100.]\n",
      "Array 7: [25 19 17 22 16]\n",
      "Array 8: [-0.87399669  0.07823406 -0.02164376  0.79328847 -0.34691783  0.20394183\n",
      "  0.50881504 -0.17067933  0.72688015  0.24925939]\n",
      "Matrix 9:\n",
      " [[46 10 50 16 34]\n",
      " [18 28 16 27 15]\n",
      " [47 40 35 19 36]]\n",
      "Satır toplamları: [156 104 177]\n",
      "Sütun toplamları: [111  78 101  62  85]\n",
      "Max değer: 50\n",
      "Min değer: 10\n",
      "Ortalama: 29.133333333333333\n",
      "En büyük değerin endeksi: (np.int64(0), np.int64(2))\n",
      "İlk 3 eleman: [10 11 12]\n",
      "Ters array: [12 11 10]\n",
      "İlk satır: [46 10 50 16 34]\n",
      "İlgili eleman: 16\n",
      "Tüm satırlardaki ilk eleman: [46 18 47]\n",
      "Karesi alınmış matris:\n",
      " [[2116  100 2500  256 1156]\n",
      " [ 324  784  256  729  225]\n",
      " [2209 1600 1225  361 1296]]\n",
      "Matris:\n",
      " [[  7 -36  19 -20  30]\n",
      " [ 19 -42 -41  35  -8]\n",
      " [ 44 -45 -46  25 -45]]\n",
      "Pozitif çift sayılar: [30 44]\n"
     ]
    }
   ],
   "source": [
    "# 1- (10,15,30,45,60) değerlerine sahip numpy dizisi oluşturunuz.\n",
    "\n",
    "array1 = np.array([10, 15, 30, 45, 60])\n",
    "print(\"Array 1:\", array1)\n",
    "\n",
    "# 2- (5-15) arasındaki sayılarla numpy dizisi oluşturunuz.\n",
    "\n",
    "array2 = np.arange(5, 16)\n",
    "print(\"Array 2:\", array2)\n",
    " \n",
    "# 3- (50-100) arasında 5'er 5'er artarak numpy dizisi oluşturunuz.\n",
    "\n",
    "array3 = np.arange(50, 101, 5)\n",
    "print(\"Array 3:\", array3)\n",
    "\n",
    "\n",
    "# 4- 10 elemanlı sıfırlardan oluşan bir dizi oluşturunuz.\n",
    "\n",
    "array4 = np.zeros(10)\n",
    "print(\"Array 4:\", array4)\n",
    "\n",
    "# 5- 10 elemanlı birlerden oluşan bir dizi oluşturunuz.\n",
    "\n",
    "array5 = np.ones(10)\n",
    "print(\"Array 5:\", array5)\n",
    "\n",
    "# 6- (0-100) arasında eşit aralıklı 5 sayı üretin.\n",
    "\n",
    "array6 = np.linspace(0, 100, 5)\n",
    "print(\"Array 6:\", array6)\n",
    "\n",
    "# 7- (10-30) arasında rastgele 5 tane tamsayı üretin.\n",
    "\n",
    "array7 = np.random.randint(10, 31, 5)\n",
    "print(\"Array 7:\", array7)\n",
    "\n",
    "# 8- [-1 ile 1] arasında 10 adet sayı üretin.\n",
    "\n",
    "array8 = np.random.uniform(-1, 1, 10)\n",
    "print(\"Array 8:\", array8)\n",
    "\n",
    "# 9- (3x5) boyutlarında (10-50) arasında rastgele bir matris oluşturunuz.\n",
    "\n",
    "matrix9 = np.random.randint(10, 51, (3, 5))\n",
    "print(\"Matrix 9:\\n\", matrix9)\n",
    "\n",
    "# 10- Üretilen matrisin satır ve sütun sayıları toplamlarını hesaplayınız ?\n",
    "\n",
    "row_sums = matrix9.sum(axis=1)\n",
    "col_sums = matrix9.sum(axis=0)\n",
    "print(\"Satır toplamları:\", row_sums)\n",
    "print(\"Sütun toplamları:\", col_sums)\n",
    "\n",
    "# 11- Üretilen matrisin en büyük, en küçük ve ortalaması nedir ?\n",
    "\n",
    "max_value = matrix9.max()\n",
    "min_value = matrix9.min()\n",
    "mean_value = matrix9.mean()\n",
    "print(\"Max değer:\", max_value)\n",
    "print(\"Min değer:\", min_value)\n",
    "print(\"Ortalama:\", mean_value)\n",
    "\n",
    "# 12- Üretilen matrisin en büyük değerinin indeksi kaçtır ?\n",
    "\n",
    "max_index = np.unravel_index(np.argmax(matrix9), matrix9.shape)\n",
    "print(\"En büyük değerin endeksi:\", max_index)\n",
    "\n",
    "# 13- (10-20) arasındaki sayıları içeren dizinin ilk 3 elemanını seçiniz.\n",
    "\n",
    "array13 = np.arange(10, 21)[:3]\n",
    "print(\"İlk 3 eleman:\", array13)\n",
    "\n",
    "# 14- Üretilen dizinin elemanlarını tersten yazdırın.\n",
    "\n",
    "array14 = array13[::-1]\n",
    "print(\"Ters array:\", array14)\n",
    "\n",
    "# 15- Üretilen matrisin ilk satırını seçiniz.\n",
    "\n",
    "first_row = matrix9[0, :]\n",
    "print(\"İlk satır:\", first_row)\n",
    "\n",
    "# 16- Üretilen matrisin 2.satır 3.sütundaki elemanı hangisidir?\n",
    "\n",
    "eleman_2_3 = matrix9[1, 2]\n",
    "print(\"İlgili eleman:\", eleman_2_3)\n",
    "\n",
    "# 17- Üretilen matrisin tüm satırlardaki ilk elemanı seçiniz.\n",
    "\n",
    "first_column = matrix9[:, 0]\n",
    "print(\"Tüm satırlardaki ilk eleman:\", first_column)\n",
    "\n",
    "# 18- Üretilen matrisin her bir elemanının karesini alınız.\n",
    "\n",
    "squared_matrix = np.square(matrix9)\n",
    "print(\"Karesi alınmış matris:\\n\", squared_matrix)\n",
    "\n",
    "# 19- Üretilen matris elemanlarının hangisi pozitif çift sayıdır ? Aralığı (-50,+50) arasında yapınız.\n",
    "\n",
    "matrix19 = np.random.randint(-50, 51, (3, 5))\n",
    "positive_even_numbers = matrix19[(matrix19 > 0) & (matrix19 % 2 == 0)]\n",
    "print(\"Matris:\\n\", matrix19)\n",
    "print(\"Pozitif çift sayılar:\", positive_even_numbers)"
   ]
  }
 ],
 "metadata": {
  "kernelspec": {
   "display_name": "Python 3",
   "language": "python",
   "name": "python3"
  },
  "language_info": {
   "codemirror_mode": {
    "name": "ipython",
    "version": 3
   },
   "file_extension": ".py",
   "mimetype": "text/x-python",
   "name": "python",
   "nbconvert_exporter": "python",
   "pygments_lexer": "ipython3",
   "version": "3.12.3"
  },
  "orig_nbformat": 4,
  "vscode": {
   "interpreter": {
    "hash": "5026d2d6e7aaaaba093def813beadff083d8733e4a511af01735cbabd156995d"
   }
  }
 },
 "nbformat": 4,
 "nbformat_minor": 2
}
