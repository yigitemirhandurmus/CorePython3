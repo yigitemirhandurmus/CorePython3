{
 "cells": [
  {
   "attachments": {},
   "cell_type": "markdown",
   "metadata": {},
   "source": [
    "# Problem 1"
   ]
  },
  {
   "cell_type": "code",
   "execution_count": 8,
   "metadata": {},
   "outputs": [
    {
     "name": "stdout",
     "output_type": "stream",
     "text": [
      "1. Üretilen matris: [7 1 1 3 3]\n",
      "2. Matrisin boyutu: (5,)\n",
      "3. Yeniden boyutlandırılmış matris: [[7 1 1 3 3]]\n",
      "4. Yeni matrisin boyut sayısı: 2\n"
     ]
    }
   ],
   "source": [
    "# 1 - numpy kütüphanesini import edin\n",
    "\n",
    "import numpy as np\n",
    "\n",
    "# 2 - 0 ile 10 arasında 5 sayıdan oluşan matris üretin\n",
    "\n",
    "matris = np.random.randint(0, 11, 5)\n",
    "print(\"1. Üretilen matris:\", matris)\n",
    "\n",
    "# 3 - matris'in boyutunu öğrenin\n",
    "\n",
    "boyut = matris.shape\n",
    "print(\"2. Matrisin boyutu:\", boyut)\n",
    "\n",
    "# 4 - matris'i yeniden boyutlandırın\n",
    "\n",
    "yeni_matris = matris.reshape(1, 5)\n",
    "print(\"3. Yeniden boyutlandırılmış matris:\", yeni_matris)\n",
    "\n",
    "# 5 - matris'in boyut sayısını öğrenin\n",
    "\n",
    "boyut_sayisi = yeni_matris.ndim\n",
    "print(\"4. Yeni matrisin boyut sayısı:\", boyut_sayisi)\n"
   ]
  },
  {
   "attachments": {},
   "cell_type": "markdown",
   "metadata": {},
   "source": [
    "# Problem 2"
   ]
  },
  {
   "cell_type": "code",
   "execution_count": 13,
   "metadata": {},
   "outputs": [
    {
     "name": "stdout",
     "output_type": "stream",
     "text": [
      "Tek Sayılardan Oluşan Matris:  [1 3 5 7 9]\n",
      "Parça 1: [1]\n",
      "Parça 2: [3]\n",
      "Parça 3: [5]\n",
      "Parça 4: [7]\n",
      "Parça 5: [9]\n",
      "Birleşmiş Matris:  [1 3 5 7 9]\n"
     ]
    }
   ],
   "source": [
    "# 1 - 0 ile 10 arasında bulunan tek sayılardan oluşan matris üretin\n",
    "\n",
    "tek_sayilar = np.arange(1, 10, 2)\n",
    "print(\"Tek Sayılardan Oluşan Matris: \", tek_sayilar)\n",
    "\n",
    "# 2 - Oluşturduğunuz matrisi parçalayın\n",
    "\n",
    "parcalar = np.array_split(tek_sayilar, 5)\n",
    "for i, parca in enumerate(parcalar):\n",
    "    print(f\"Parça {i+1}:\", parca)\n",
    "\n",
    "# 3 - Parçalanmış matrisleri birleştirin\n",
    "\n",
    "birlesmis_matris = np.concatenate(parcalar)\n",
    "print(\"Birleşmiş Matris: \", birlesmis_matris)\n"
   ]
  },
  {
   "attachments": {},
   "cell_type": "markdown",
   "metadata": {},
   "source": [
    "# Problem 3"
   ]
  },
  {
   "cell_type": "code",
   "execution_count": 18,
   "metadata": {},
   "outputs": [
    {
     "name": "stdout",
     "output_type": "stream",
     "text": [
      "Matris: [ 5 87 93 15 73 31 75 35 85 53]\n",
      "Matrisin Şekli: (10,)\n",
      "Matrisin Boyutu: 10\n",
      "Matrisin Ortalaması: 55.2\n",
      "Matrisin Standart Sapması: 30.284649576972157\n"
     ]
    }
   ],
   "source": [
    "# 1 - 5 ile 100 arasında ikişer ikişer atlayarak rastgele 10 sayıdan oluşan matris üretin\n",
    "\n",
    "numbers = np.arange(1, 101, 2)\n",
    "matrix = np.random.choice(numbers, 10, replace=False)\n",
    "\n",
    "# 2 - matris'in özelliklerini inceleyin\n",
    "\n",
    "print(\"Matris:\", matrix)\n",
    "print(\"Matrisin Şekli:\", matrix.shape)\n",
    "print(\"Matrisin Boyutu:\", matrix.size)\n",
    "print(\"Matrisin Ortalaması:\", matrix.mean())\n",
    "print(\"Matrisin Standart Sapması:\", matrix.std())"
   ]
  }
 ],
 "metadata": {
  "kernelspec": {
   "display_name": "Python 3",
   "language": "python",
   "name": "python3"
  },
  "language_info": {
   "codemirror_mode": {
    "name": "ipython",
    "version": 3
   },
   "file_extension": ".py",
   "mimetype": "text/x-python",
   "name": "python",
   "nbconvert_exporter": "python",
   "pygments_lexer": "ipython3",
   "version": "3.12.3"
  },
  "orig_nbformat": 4,
  "vscode": {
   "interpreter": {
    "hash": "5026d2d6e7aaaaba093def813beadff083d8733e4a511af01735cbabd156995d"
   }
  }
 },
 "nbformat": 4,
 "nbformat_minor": 2
}
