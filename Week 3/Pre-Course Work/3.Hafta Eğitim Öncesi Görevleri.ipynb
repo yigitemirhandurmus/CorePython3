{
  "cells": [
    {
      "cell_type": "markdown",
      "metadata": {
        "id": "tsD4YVAe_Te2"
      },
      "source": [
        "# Problem 1\n",
        "Bir sayının 7'ye bölünebilir olup olmadığını kontrol etmek \n",
        "için bir program yazın.\n",
        "\n",
        "İpucu: Mod operatörünü (%) kullanabilirsiniz."
      ]
    },
    {
      "cell_type": "code",
      "execution_count": 2,
      "metadata": {
        "id": "NGjvNwKx_Te7"
      },
      "outputs": [
        {
          "name": "stdout",
          "output_type": "stream",
          "text": [
            "This number can be divided by 7.\n"
          ]
        }
      ],
      "source": [
        "# 1.Problemin Çözümünü Buraya Yazınız\n",
        "\n",
        "number = int(input(\"Enter a number: \"))\n",
        "\n",
        "if number % 7 == 0:\n",
        "    print(\"This number can be divided by 7.\")\n",
        "else:\n",
        "    print(\"This number cannot be divided by 7.\")"
      ]
    },
    {
      "cell_type": "markdown",
      "metadata": {
        "id": "Kg3qiBAI_Te8"
      },
      "source": [
        "# Problem 2\n",
        "Kullanıcıdan vize ve final notu isteyin. Girilen vize notunun %40’ı ve \n",
        "girilen finalnotunun ise %60’ı alınarak yıl sonu not ortalaması hesaplanacaktır. \n",
        "\n",
        "Bu not ortalaması eğer 85 ve üzeri ise AA, \n",
        "\n",
        "75 ve 85 arasında ise BA, \n",
        "\n",
        "70 ve 75 arasında ise BB, \n",
        "\n",
        "65 ve 70 arasında ise CB,\n",
        "\n",
        "60 ve 65 arasında ise CC,\n",
        "\n",
        "55 ve 60 arasında ise DC,\n",
        "\n",
        "50 ve 55 arasında ise DD olarak hesaplanacaktır. \n",
        "\n",
        "Bu öğrencinin yıl sonu toplam notu 50’nin altında ise FF ile dersten kalacaktır. \n",
        "\n",
        "Ayrıca öğrencinin final notu 50’nin altında ise direkt FF ile kalacaktır."
      ]
    },
    {
      "cell_type": "code",
      "execution_count": 66,
      "metadata": {
        "id": "MXTtCxI1_Te8"
      },
      "outputs": [
        {
          "name": "stdout",
          "output_type": "stream",
          "text": [
            "69.4 is your overall score.\n",
            "You got a CB from the course.\n"
          ]
        }
      ],
      "source": [
        "# 2.Problemin Çözümünü Buraya Yazınız\n",
        "\n",
        "mid = float(input(\"Enter your midterm score: \"))\n",
        "final = float(input(\"Enter your final score: \"))\n",
        "\n",
        "avg = 0.4 * mid + 0.6 * final\n",
        "\n",
        "if avg > 100 or avg < 0:\n",
        "        print(\"Tell me the truth.\")\n",
        "\n",
        "if avg <= 100 and avg >= 0:\n",
        "    print(f\"{avg} is your overall score.\")\n",
        "\n",
        "if avg <= 100 and avg>= 0:\n",
        "    if final < 50:\n",
        "        print(\"You failed the course due to your final score being less than 50! Better luck next time! #SeneyeVeririzAbi\")\n",
        "    elif avg >= 85:\n",
        "        print(\"Congratulations! You got an AA from the course.\")\n",
        "    elif avg >= 75:\n",
        "        print(\"You got a BA from the course.\")\n",
        "    elif avg >= 70:\n",
        "        print(\"You got a BB from the course.\")\n",
        "    elif avg >= 65:\n",
        "        print(\"You got a CB from the course.\")\n",
        "    elif avg >= 60:\n",
        "        print(\"You got a CC from the course.\")\n",
        "    elif avg >= 55:\n",
        "        print(\"You got a DC from the course.\")\n",
        "    elif avg >= 50:\n",
        "        print(\"You got a DD from the course.\")\n",
        "    else:\n",
        "        print(\"You failed the course due to your overall score being less than 50! Better luck next time! #SeneyeVeririzAbi\")    "
      ]
    },
    {
      "cell_type": "markdown",
      "metadata": {
        "id": "tAoRYCTC_Te8"
      },
      "source": [
        "# Problem 3\n",
        "İki YetGenli Zirve'de karşılaşıyorlar. Birbirlerini tanımak için sorular soruyorlar. Birbirlerine yaşlarını soruyorlar. Akıllarına bir Python programı yazıp, yaşlarını ve isimlerini giriyorlar. Büyük olanın yaşını ekrana yazdıran programı yazıyorlar. Sende bu iki YetGenli'ye destek olmak ister misin?\n",
        "\n",
        "```\n",
        "Birinci YetGenlinin ismi: Ahmet\n",
        "Birinci YetGenlinin yaşı : 20\n",
        "İkinci YetGenlinin ismi: Mehmet\n",
        "İkinci YetGenlinin yaşı : 25\n",
        "Mehmet'in yaşı daha büyük ve yaşı 25'tir.\n",
        "```"
      ]
    },
    {
      "cell_type": "code",
      "execution_count": 25,
      "metadata": {
        "id": "bPjE8W0i_Te8"
      },
      "outputs": [
        {
          "name": "stdout",
          "output_type": "stream",
          "text": [
            "Birinci YetGen'linin ismi: Ahmet\n",
            "Birinci YetGen'linin yaşı: 20\n",
            "İkinci YetGen'linin ismi: Mehmet\n",
            "İkinci YetGen'linin yaşı: 25\n",
            "Mehmet kişisinin yaşı daha büyük ve yaşı 25.\n"
          ]
        }
      ],
      "source": [
        "# 3.Problemin Çözümünü Buraya Yazınız\n",
        "\n",
        "birinciIsim = input(\"Birinci YetGen'linin ismi ne?: \")\n",
        "birinciYas = int(input(\"Birinci YetGen'linin yaşı ne?: \"))\n",
        "\n",
        "ikinciIsim = input(\"İkinci YetGen'linin ismi ne?: \")\n",
        "ikinciYas = int(input(\"İkinci YetGen'linin yaşı ne?: \"))\n",
        "\n",
        "print(f\"Birinci YetGen'linin ismi: {birinciIsim}\")\n",
        "print(f\"Birinci YetGen'linin yaşı: {birinciYas}\")\n",
        "\n",
        "print(f\"İkinci YetGen'linin ismi: {ikinciIsim}\")\n",
        "print(f\"İkinci YetGen'linin yaşı: {ikinciYas}\")\n",
        "\n",
        "if ikinciYas > birinciYas:\n",
        "    print(f\"{ikinciIsim} kişisinin yaşı daha büyük ve yaşı {ikinciYas}.\")\n",
        "elif birinciYas > ikinciYas:\n",
        "    print(f\"{birinciIsim} kişisinin yaşı daha büyük ve yaşı {birinciYas}.\")\n",
        "elif birinciYas == ikinciYas:\n",
        "    print(\"İki kişinin de yaşı eşit.\")"
      ]
    },
    {
      "cell_type": "markdown",
      "metadata": {
        "id": "zBVv8Tyg_Te9"
      },
      "source": [
        "# Problem 4\n",
        "Pandemi döneminde AVM'lerde ateş ölçümü yapılıyor. AVM'ye giren kişinin ateş ölçümü 37.5 derecenin altında ise girişe izin veriliyor. 37.5 derecenin üstünde ise girişe izin verilmiyor. AVM'ye girişe izin verilip verilmediğini ekrana yazdıran bir program yazın.\n",
        "\n",
        "Program sonunda şöyle bir çıktı elde etmelisiniz:\n",
        "\n",
        "```\n",
        "Ateşiniz 37.5 derece. AVM'ye girebilirsin! Maske takmayı unutma!\n",
        "Ateşiniz 37.6 derece. AVM'ye giremezsin! Hemen evine dön!\n",
        "```"
      ]
    },
    {
      "cell_type": "code",
      "execution_count": 28,
      "metadata": {
        "id": "TSAXs8et_Te9"
      },
      "outputs": [
        {
          "name": "stdout",
          "output_type": "stream",
          "text": [
            "Ateşiniz 37.5 derece. AVM'ye girebilirsin! Maske takmayı unutma!\n"
          ]
        }
      ],
      "source": [
        "# 4.Problemin Çözümünü Buraya Yazınız\n",
        "\n",
        "ates = float(input(\"Ateşiniz kaç derece çıktı?: \"))\n",
        "\n",
        "if ates > 37.5:\n",
        "    print(f\"Ateşiniz {ates} derece. AVM'ye giremezsin! Hemen evine dön!\")\n",
        "else:\n",
        "    print(f\"Ateşiniz {ates} derece. AVM'ye girebilirsin! Maske takmayı unutma!\")"
      ]
    },
    {
      "cell_type": "markdown",
      "metadata": {
        "id": "6AEkZrDt_Te9"
      },
      "source": [
        "# Problem 5\n",
        "YetGen bir spor kulübüyle sponsorluk anlaşması yapıyor. Kulüp, sponsorluk anlaşmasına göre her YetGen liderinin beden kitle indeksini hesaplamak istiyor. Spor kulübü, beden kitle indeksini hesaplamak için YetGen Jump Python liderlerinden Berkcan ve Ahmet'i arıyor. Berkcan ve Ahmet, kulübe yardımcı olmak için bir Python programı yazıyorlar. Sende bu iki YetGen liderine destek olmak ister misin?\n",
        "\n",
        "Kullanıcıdan alınan boy ve kilo değerlerine göre beden kitle indeksini hesaplayın ve şu kurallara göre ekrana şu yazıları yazdırın.\n",
        "\n",
        "\n",
        "Beden Kitle İndeksi, kişinin ağırlığının (kg olarak) boyunun karesine (m olarak) bölünmesiyle hesaplanır.\n",
        "\n",
        "\n",
        "```\n",
        " BKİ 18.5'un altındaysa -------> Zayıf\n",
        "\n",
        " BKİ 18.5 ile 25 arasındaysa ------> Normal\n",
        "\n",
        " BKİ 25 ile 30 arasındaysa --------> Fazla Kilolu\n",
        "\n",
        " BKİ 30'un üstündeyse -------------> Obez\n",
        "```\n",
        "\n"
      ]
    },
    {
      "cell_type": "code",
      "execution_count": 37,
      "metadata": {
        "id": "t-XPI_u0_Te-"
      },
      "outputs": [
        {
          "name": "stdout",
          "output_type": "stream",
          "text": [
            "Seçilen aday için BKİ değeri: 20.45\n",
            "Normal\n"
          ]
        }
      ],
      "source": [
        "# 5.Problemin Çözümünü Buraya Yazınız\n",
        "\n",
        "boy = float(input(\"Adayın boyunu girin (m cinsinden): \"))\n",
        "kilo = float(input(\"Adayın kilosunu girin (kg cinsinden): \"))\n",
        "\n",
        "bki = kilo / (boy ** 2)\n",
        "\n",
        "print(f\"Seçilen aday için BKİ değeri: {bki:.2f}\")\n",
        "\n",
        "if bki < 18.5:\n",
        "    print(\"Zayıf\")\n",
        "elif bki >= 18.5 and bki < 25:\n",
        "    print(\"Normal\")\n",
        "elif bki >= 25 and bki < 30:\n",
        "    print(\"Fazla Kilolu\")\n",
        "else:\n",
        "    print(\"Obez\")"
      ]
    },
    {
      "cell_type": "markdown",
      "metadata": {
        "id": "oFsvQyaO_Te-"
      },
      "source": [
        "# Problem 6\n",
        "Kullanıcıdan isim, yaş ve eğitim bilgilerini isteyip ehliyet alabilme  durumunu kontrol ediniz. \n",
        "\n",
        "Ehliyet alma koşulu en az 18 yaşında ve eğitim durumu lise ya da üniversite olmalıdır. "
      ]
    },
    {
      "cell_type": "code",
      "execution_count": 48,
      "metadata": {
        "id": "Tu2mcgco_Te-"
      },
      "outputs": [
        {
          "name": "stdout",
          "output_type": "stream",
          "text": [
            "Merhaba Yiğit,\n",
            "Tebrikler! Ehliyet alabilmek için bütün koşulları sağlıyorsunuz.\n"
          ]
        }
      ],
      "source": [
        "# 6.Problemin Çözümünü Buraya Yazınız\n",
        "\n",
        "isim = input(\"İsminizi girin: \")\n",
        "yas = int(input(\"Yaşınızı girin: \"))\n",
        "egitim = input(\"Eğitim durumunuzu girin: \")\n",
        "\n",
        "print(f\"Merhaba {isim},\")\n",
        "\n",
        "while True:\n",
        "    if (egitim == \"Lise\" or egitim == \"Üniversite\") and yas >= 18:\n",
        "        print(\"Tebrikler! Ehliyet alabilmek için bütün koşulları sağlıyorsunuz.\")\n",
        "        break\n",
        "    else:\n",
        "        print(\"Ehliyet almak için gereken koşulları sağlamıyorsunuz.\")\n",
        "        break\n"
      ]
    },
    {
      "cell_type": "markdown",
      "metadata": {
        "id": "eUkxVSAE_Te_"
      },
      "source": [
        "# Problem 7\n",
        "Bir yılın artık yıl olup olmadığını kontrol etmek için bir program yazın. \n",
        "Artık yıl kuralı:\n",
        "\n",
        "a) Eğer yılın son iki basamağı (00) ile bitmiyor ve yalnızca 4'e tam bölünüyorsa artık yıldır. Ya da, \n",
        "\n",
        "b) Eğer yıl 400'e tam bölünüyorsa artık yıldır.\n",
        "\n",
        "**Örneğin**\n",
        "```\n",
        "2017 artık yıl değildir.\n",
        "1900 artık yıl değildir\n",
        "2012 artık yıldır.\n",
        "2000 artık yıldır.\n",
        "```"
      ]
    },
    {
      "cell_type": "code",
      "execution_count": 65,
      "metadata": {
        "id": "4uWh8qUL_Te_"
      },
      "outputs": [
        {
          "name": "stdout",
          "output_type": "stream",
          "text": [
            "1999 artık yıl değildir.\n"
          ]
        }
      ],
      "source": [
        "# 7.Problemin Çözümünü Buraya Yazınız\n",
        "\n",
        "yil = int(input(\"Lütfen bir yıl girin: \"))\n",
        "\n",
        "if (yil % 4 == 0 and yil % 100 != 0) or (yil % 400 == 0):\n",
        "    print(yil, \"artık yıldır.\")\n",
        "else:\n",
        "    print(yil, \"artık yıl değildir.\")"
      ]
    }
  ],
  "metadata": {
    "colab": {
      "provenance": []
    },
    "kernelspec": {
      "display_name": "Python 3.10.5 64-bit",
      "language": "python",
      "name": "python3"
    },
    "language_info": {
      "codemirror_mode": {
        "name": "ipython",
        "version": 3
      },
      "file_extension": ".py",
      "mimetype": "text/x-python",
      "name": "python",
      "nbconvert_exporter": "python",
      "pygments_lexer": "ipython3",
      "version": "3.12.3"
    },
    "orig_nbformat": 4,
    "vscode": {
      "interpreter": {
        "hash": "5026d2d6e7aaaaba093def813beadff083d8733e4a511af01735cbabd156995d"
      }
    }
  },
  "nbformat": 4,
  "nbformat_minor": 0
}
