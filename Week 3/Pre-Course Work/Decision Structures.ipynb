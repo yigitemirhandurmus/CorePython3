{
 "cells": [
  {
   "cell_type": "code",
   "execution_count": null,
   "metadata": {},
   "outputs": [],
   "source": [
    "if rule:\n",
    "    # The codes that will run if rule is True.\n",
    "elif rule2:\n",
    "    # The codes that will run if rule is False and rule2 is True.\n",
    "else:\n",
    "    # The codes that will run if both are false."
   ]
  },
  {
   "cell_type": "code",
   "execution_count": 3,
   "metadata": {},
   "outputs": [
    {
     "name": "stdout",
     "output_type": "stream",
     "text": [
      "Don't lie to me!\n"
     ]
    }
   ],
   "source": [
    "grade = float(input(\"Tell me your grade: \"))\n",
    "\n",
    "if grade >= 3 and grade <= 4:\n",
    "    print(\"That's some determination here, eh?\")\n",
    "elif grade > 0 and grade < 3:\n",
    "    print(\"Get them all next time...\")\n",
    "else:\n",
    "    print(\"Don't lie to me!\")"
   ]
  },
  {
   "cell_type": "code",
   "execution_count": 5,
   "metadata": {},
   "outputs": [
    {
     "name": "stdout",
     "output_type": "stream",
     "text": [
      "Goddamn gray city with public employees all around!\n"
     ]
    }
   ],
   "source": [
    "city = input(\"Choose me a city in Turkey: \")\n",
    "\n",
    "if city == \"Istanbul\":\n",
    "    print(\"Some people with taste here!\")\n",
    "elif city == \"Ankara\":\n",
    "    print(\"Goddamn gray city with public employees all around!\")\n",
    "else:\n",
    "    print(\"idk what ur even talking about, man.\")"
   ]
  },
  {
   "cell_type": "code",
   "execution_count": 15,
   "metadata": {},
   "outputs": [
    {
     "name": "stdout",
     "output_type": "stream",
     "text": [
      "Cool stuff!\n"
     ]
    }
   ],
   "source": [
    "district = \"Kuşadası\"\n",
    "\n",
    "if \"ada\" in district:\n",
    "    print(\"Cool stuff!\")\n",
    "else:\n",
    "    print(\"Ummm?\")"
   ]
  },
  {
   "cell_type": "code",
   "execution_count": 9,
   "metadata": {},
   "outputs": [
    {
     "name": "stdout",
     "output_type": "stream",
     "text": [
      "Ummm?\n"
     ]
    }
   ],
   "source": [
    "# This example also makes usage of the in operator, and you can probably see what it does:\n",
    "\n",
    "district2 = \"Didim\"\n",
    "\n",
    "if \"ada\" in district2:\n",
    "    print(\"Cool stuff!\")\n",
    "else:\n",
    "    print(\"Ummm?\")"
   ]
  },
  {
   "cell_type": "code",
   "execution_count": 11,
   "metadata": {},
   "outputs": [
    {
     "name": "stdout",
     "output_type": "stream",
     "text": [
      "That thing is odd.\n"
     ]
    }
   ],
   "source": [
    "number = int(input(\"Give me a number: \"))\n",
    "\n",
    "if number % 2 == 0:\n",
    "    print(\"That thing is even.\")\n",
    "else:\n",
    "    print(\"That thing is odd.\")"
   ]
  },
  {
   "cell_type": "code",
   "execution_count": 12,
   "metadata": {},
   "outputs": [
    {
     "name": "stdout",
     "output_type": "stream",
     "text": [
      "4 is even.\n"
     ]
    }
   ],
   "source": [
    "# Or even fancier:\n",
    "\n",
    "number2 = int(input(\"Give me a number: \"))\n",
    "\n",
    "if number2 % 2 == 0:\n",
    "    print(f\"{number2} is even.\")\n",
    "else:\n",
    "    print(f\"{number2} is odd.\")"
   ]
  }
 ],
 "metadata": {
  "kernelspec": {
   "display_name": "Python 3",
   "language": "python",
   "name": "python3"
  },
  "language_info": {
   "codemirror_mode": {
    "name": "ipython",
    "version": 3
   },
   "file_extension": ".py",
   "mimetype": "text/x-python",
   "name": "python",
   "nbconvert_exporter": "python",
   "pygments_lexer": "ipython3",
   "version": "3.12.3"
  }
 },
 "nbformat": 4,
 "nbformat_minor": 2
}
