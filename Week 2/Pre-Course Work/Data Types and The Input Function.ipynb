{
 "cells": [
  {
   "cell_type": "markdown",
   "metadata": {},
   "source": [
    "int:"
   ]
  },
  {
   "cell_type": "code",
   "execution_count": 3,
   "metadata": {},
   "outputs": [
    {
     "name": "stdout",
     "output_type": "stream",
     "text": [
      "3\n",
      "<class 'int'>\n"
     ]
    }
   ],
   "source": [
    "print(3)\n",
    "print(type(3))"
   ]
  },
  {
   "cell_type": "markdown",
   "metadata": {},
   "source": [
    "float:"
   ]
  },
  {
   "cell_type": "code",
   "execution_count": 4,
   "metadata": {},
   "outputs": [
    {
     "name": "stdout",
     "output_type": "stream",
     "text": [
      "3.14\n",
      "<class 'float'>\n"
     ]
    }
   ],
   "source": [
    "pi = 3.14\n",
    "print(pi)\n",
    "print(type(pi))"
   ]
  },
  {
   "cell_type": "markdown",
   "metadata": {},
   "source": [
    "Arithmetical Operators:\n",
    "\n",
    "Toplama +\n",
    "\n",
    "Çikarma -\n",
    "\n",
    "Çarpma *\n",
    "\n",
    "Bölme /\n",
    "\n",
    "Us alma **\n",
    "\n",
    "Mod alma %\n",
    "\n",
    "Tam bölme //"
   ]
  },
  {
   "cell_type": "code",
   "execution_count": 6,
   "metadata": {},
   "outputs": [
    {
     "name": "stdout",
     "output_type": "stream",
     "text": [
      "13\n",
      "-7\n",
      "30\n",
      "0.3\n",
      "59049\n",
      "3\n",
      "0\n"
     ]
    }
   ],
   "source": [
    "a = 3\n",
    "b = 10\n",
    "\n",
    "print(a+b)\n",
    "\n",
    "print(a-b)\n",
    "\n",
    "print(a*b)\n",
    "\n",
    "print(a/b)\n",
    "\n",
    "print(a**b)\n",
    "\n",
    "print(a%b)\n",
    "\n",
    "print(a//b)"
   ]
  },
  {
   "cell_type": "markdown",
   "metadata": {},
   "source": [
    "Strings:"
   ]
  },
  {
   "cell_type": "markdown",
   "metadata": {},
   "source": [
    "In Python, indexing refers to the process of accessing individual elements within a sequence (such as a string, list, or tuple) based on their position. Each element in the sequence is assigned a numerical index, starting from 0 for the first element, 1 for the second element, and so on.\n",
    "\n",
    "Here's how indexing works:"
   ]
  },
  {
   "cell_type": "code",
   "execution_count": 8,
   "metadata": {},
   "outputs": [
    {
     "name": "stdout",
     "output_type": "stream",
     "text": [
      "10\n",
      "30\n",
      "e\n",
      "50\n",
      "30\n"
     ]
    }
   ],
   "source": [
    "my_list = [10, 20, 30, 40, 50]\n",
    "print(my_list[0])  # Output: 10 (first element)\n",
    "print(my_list[2])  # Output: 30 (third element)\n",
    "\n",
    "my_string = \"Hello\"\n",
    "print(my_string[1])  # Output: e (second character)\n",
    "\n",
    "print(my_list[-1])  # Output: 50 (last element)\n",
    "print(my_list[-3])  # Output: 30 (third-to-last element)"
   ]
  },
  {
   "cell_type": "code",
   "execution_count": 9,
   "metadata": {},
   "outputs": [
    {
     "name": "stdout",
     "output_type": "stream",
     "text": [
      "Yiğit Durmuş\n"
     ]
    }
   ],
   "source": [
    "name = \"Yiğit\"\n",
    "surname = \"Durmuş\"\n",
    "yas = 19\n",
    "\n",
    "print(name + \" \" + surname)"
   ]
  },
  {
   "cell_type": "code",
   "execution_count": 10,
   "metadata": {},
   "outputs": [
    {
     "ename": "TypeError",
     "evalue": "can only concatenate str (not \"int\") to str",
     "output_type": "error",
     "traceback": [
      "\u001b[0;31m---------------------------------------------------------------------------\u001b[0m",
      "\u001b[0;31mTypeError\u001b[0m                                 Traceback (most recent call last)",
      "Cell \u001b[0;32mIn[10], line 5\u001b[0m\n\u001b[1;32m      2\u001b[0m surname \u001b[38;5;241m=\u001b[39m \u001b[38;5;124m\"\u001b[39m\u001b[38;5;124mDurmuş\u001b[39m\u001b[38;5;124m\"\u001b[39m\n\u001b[1;32m      3\u001b[0m yas \u001b[38;5;241m=\u001b[39m \u001b[38;5;241m20\u001b[39m\n\u001b[0;32m----> 5\u001b[0m \u001b[38;5;28mprint\u001b[39m (\u001b[43mname\u001b[49m\u001b[43m \u001b[49m\u001b[38;5;241;43m+\u001b[39;49m\u001b[43m \u001b[49m\u001b[38;5;124;43m\"\u001b[39;49m\u001b[38;5;124;43m \u001b[39;49m\u001b[38;5;124;43m\"\u001b[39;49m\u001b[43m \u001b[49m\u001b[38;5;241;43m+\u001b[39;49m\u001b[43m \u001b[49m\u001b[43msurname\u001b[49m\u001b[43m \u001b[49m\u001b[38;5;241;43m+\u001b[39;49m\u001b[43m \u001b[49m\u001b[38;5;124;43m\"\u001b[39;49m\u001b[38;5;124;43m \u001b[39;49m\u001b[38;5;124;43m\"\u001b[39;49m\u001b[43m \u001b[49m\u001b[38;5;241;43m+\u001b[39;49m\u001b[43m \u001b[49m\u001b[43myas\u001b[49m)\n",
      "\u001b[0;31mTypeError\u001b[0m: can only concatenate str (not \"int\") to str"
     ]
    }
   ],
   "source": [
    "name = \"Yiğit\"\n",
    "surname = \"Durmuş\"\n",
    "yas = 19\n",
    "\n",
    "print (name + \" \" + surname + \" \" + yas) #This will not work."
   ]
  },
  {
   "cell_type": "code",
   "execution_count": 12,
   "metadata": {},
   "outputs": [
    {
     "name": "stdout",
     "output_type": "stream",
     "text": [
      "Yiğit Durmuş 19\n"
     ]
    }
   ],
   "source": [
    "name = \"Yiğit\"\n",
    "surname = \"Durmuş\"\n",
    "yas = 19\n",
    "\n",
    "print (name, surname, yas, sep=\" \") #This will work."
   ]
  },
  {
   "cell_type": "code",
   "execution_count": 13,
   "metadata": {},
   "outputs": [
    {
     "name": "stdout",
     "output_type": "stream",
     "text": [
      "Alice Johnson 30\n"
     ]
    }
   ],
   "source": [
    "isim = \"Alice\"\n",
    "soyisim = \"Johnson\"\n",
    "yas = 30\n",
    "\n",
    "print(f\"{isim} {soyisim} {yas}\") \n"
   ]
  },
  {
   "cell_type": "markdown",
   "metadata": {},
   "source": [
    "Note for above ^^:\n",
    "\n",
    "In this Python code, the f before the string indicates an f-string (formatted string literal). This type of string allows you to embed expressions directly within the string by placing them in curly braces {}. The expressions inside the curly braces are evaluated at runtime, and their values are then inserted into the string."
   ]
  },
  {
   "cell_type": "markdown",
   "metadata": {},
   "source": [
    "Boolean:\n",
    "\n",
    "Booleans only return true or false values."
   ]
  },
  {
   "cell_type": "code",
   "execution_count": 14,
   "metadata": {},
   "outputs": [
    {
     "name": "stdout",
     "output_type": "stream",
     "text": [
      "False\n",
      "<class 'bool'>\n"
     ]
    }
   ],
   "source": [
    "doesMecklenburgVorpommernExist = False #I know that this is a VERY long variable, don't beat me lol\n",
    "\n",
    "print(doesMecklenburgVorpommernExist)\n",
    "print(type(doesMecklenburgVorpommernExist))"
   ]
  },
  {
   "cell_type": "markdown",
   "metadata": {},
   "source": [
    "input() function helps us to get values from the user."
   ]
  },
  {
   "cell_type": "code",
   "execution_count": 1,
   "metadata": {},
   "outputs": [
    {
     "name": "stdout",
     "output_type": "stream",
     "text": [
      "Merhaba Yiğit\n",
      "Merhaba  Yiğit\n",
      "Merhaba Yiğit\n"
     ]
    }
   ],
   "source": [
    "isim = input(\"Isim Giriniz :\")\n",
    "print(f\"Merhaba {isim}\")\n",
    "print (\"Merhaba \" , isim)\n",
    "print (\"Merhaba \" + isim)\n",
    "\n",
    "# All of these should work."
   ]
  },
  {
   "cell_type": "code",
   "execution_count": 2,
   "metadata": {},
   "outputs": [
    {
     "name": "stdout",
     "output_type": "stream",
     "text": [
      "32\n"
     ]
    }
   ],
   "source": [
    "sayi1 = input(\"Birinci sayıyı giriniz : \")\n",
    "sayi2 = input(\"İkinci sayıyı giriniz : \")\n",
    "print(sayi1 + sayi2)\n",
    "\n",
    "# This command set will not work as a calculator because what you will enter as inputs will be considered as strings."
   ]
  },
  {
   "cell_type": "code",
   "execution_count": 4,
   "metadata": {},
   "outputs": [
    {
     "name": "stdout",
     "output_type": "stream",
     "text": [
      "5\n",
      "2 + 3 = 5\n"
     ]
    }
   ],
   "source": [
    "sayi1 = int(input(\"Birinci sayıyı giriniz : \"))\n",
    "sayi2 = int(input(\"İkinci sayıyı giriniz : \"))\n",
    "print(sayi1 + sayi2)\n",
    "\n",
    "# This should work better instead. Alternatively:\n",
    "\n",
    "print(f\"{sayi1} + {sayi2} = {sayi1 + sayi2}\")"
   ]
  }
 ],
 "metadata": {
  "kernelspec": {
   "display_name": "Python 3",
   "language": "python",
   "name": "python3"
  },
  "language_info": {
   "codemirror_mode": {
    "name": "ipython",
    "version": 3
   },
   "file_extension": ".py",
   "mimetype": "text/x-python",
   "name": "python",
   "nbconvert_exporter": "python",
   "pygments_lexer": "ipython3",
   "version": "3.12.3"
  }
 },
 "nbformat": 4,
 "nbformat_minor": 2
}
