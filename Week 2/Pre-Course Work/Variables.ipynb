{
 "cells": [
  {
   "cell_type": "markdown",
   "metadata": {},
   "source": [
    "Variables help to store values.\n",
    "\n",
    "One example from the YetGen video: \"Degiskenler verilerin sonradan degistirilmesine olan sagladig için çok kullanislidir. Mesela bir bankada çalisiyoruz ve faiz oranini mesela 1.3'ten 1.1'e dügürmek isteniyor ve elimize 1000 satirlik veri var bu orani bir degiskene atarsak tek seferde bir yerde 1.1 yapmamiz yeterli olacaktir. Diger durumda 1000 satirlik kodu tek tek incelememiz gerekir.\""
   ]
  },
  {
   "cell_type": "code",
   "execution_count": 1,
   "metadata": {},
   "outputs": [
    {
     "name": "stdout",
     "output_type": "stream",
     "text": [
      "Hello world!\n"
     ]
    }
   ],
   "source": [
    "hello = \"Hello world!\"\n",
    "\n",
    "print(hello)"
   ]
  },
  {
   "cell_type": "markdown",
   "metadata": {},
   "source": [
    "You can use numbers, letters or underscore for defining variables, however CANNOT start variables with a number. You also cannot use spaces or non-english letters while defining variables."
   ]
  },
  {
   "cell_type": "code",
   "execution_count": null,
   "metadata": {},
   "outputs": [],
   "source": [
    "#Some wrong examples:\n",
    "\n",
    "ağırlık = 5\n",
    "name surname = \"Yiğit Emirhan Durmuş\"\n",
    "1yigit = 1"
   ]
  },
  {
   "cell_type": "code",
   "execution_count": null,
   "metadata": {},
   "outputs": [],
   "source": [
    "#Some true examples:\n",
    "\n",
    "_yigit = 1\n",
    "yigit1 = 1\n",
    "agirlik = 5\n",
    "\n",
    "name_surname = \"Yiğit Emirhan Durmuş\" #snake_case\n",
    "nameSurname = \"Yiğit Emirhan Durmuş\" #camelCase naming is what's generally preferred in the coding world!"
   ]
  },
  {
   "cell_type": "markdown",
   "metadata": {},
   "source": [
    "In general:\n",
    "\n",
    "![NamingRules](../../src/namingrules.png)"
   ]
  },
  {
   "cell_type": "markdown",
   "metadata": {},
   "source": [
    "Python is also case sensitive:"
   ]
  },
  {
   "cell_type": "code",
   "execution_count": 2,
   "metadata": {},
   "outputs": [
    {
     "name": "stdout",
     "output_type": "stream",
     "text": [
      "A\n",
      "B\n"
     ]
    }
   ],
   "source": [
    "isim = \"A\"\n",
    "Isim = \"B\"\n",
    "\n",
    "print(isim)\n",
    "print(Isim)"
   ]
  },
  {
   "cell_type": "markdown",
   "metadata": {},
   "source": [
    "The type command reports us whether a variable is an integer, float, boolean, or a string."
   ]
  },
  {
   "cell_type": "code",
   "execution_count": 5,
   "metadata": {},
   "outputs": [
    {
     "name": "stdout",
     "output_type": "stream",
     "text": [
      "<class 'str'>\n",
      "<class 'int'>\n",
      "<class 'bool'>\n",
      "<class 'float'>\n"
     ]
    }
   ],
   "source": [
    "print(type(\"Yiğit\"))\n",
    "print(type(1))\n",
    "print(type(False)) #PYTHON IS CASE SENSITIVE!!\n",
    "print(type(3.92))"
   ]
  }
 ],
 "metadata": {
  "kernelspec": {
   "display_name": "Python 3",
   "language": "python",
   "name": "python3"
  },
  "language_info": {
   "codemirror_mode": {
    "name": "ipython",
    "version": 3
   },
   "file_extension": ".py",
   "mimetype": "text/x-python",
   "name": "python",
   "nbconvert_exporter": "python",
   "pygments_lexer": "ipython3",
   "version": "3.12.3"
  }
 },
 "nbformat": 4,
 "nbformat_minor": 2
}
