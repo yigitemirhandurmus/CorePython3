{
 "cells": [
  {
   "attachments": {},
   "cell_type": "markdown",
   "metadata": {},
   "source": [
    "# Problem 1\n",
    "\n",
    "Şimdi beraber kullanıcılardan aldığımız verileri işleyerek, onlara hem çıktı verecek, hem de aldığımız ve hesapladığımız verileri ileride kullanabilmek adına kaydedeceğiz.\n",
    "\n",
    "\n",
    " **Bu bir veri giriş platformu olacak**\n",
    "\n",
    "\n",
    " * kullanıcıya kaç giriş yapacağını soracağız\n",
    "* kullanıcıdan isim-soyisim, yaş, boy, kilo bilgilerini alarak VKİ hesaplayacağız\n",
    "* ardından bunları sınıflara göre kaydedeceğiz bir dosyaya kaydedeceğiz\n",
    "\n",
    "\n",
    "Sınıflar ise şu şekilde: \n",
    "* 18, 5 kg/m.'nin altında olanlar: Zayıf\n",
    "* 18.5 – 24, 9 kg/m. arasında olanlar: Normal kilolu\n",
    "* 25 – 29, 9 kg/m. arasında olanlar: Fazla kilolu\n",
    "* 30 – 39, 9 kg/m. arasında olanlar: Obez\n",
    "* 40 kg/m.'nin üzerinde olanlar: İleri derecede obez (morbid obez), olarak görülür."
   ]
  },
  {
   "cell_type": "code",
   "execution_count": 3,
   "metadata": {},
   "outputs": [
    {
     "name": "stdout",
     "output_type": "stream",
     "text": [
      "\n",
      "1. kişi için bilgileri girin:\n",
      "\n",
      "Ali Ahmet için VKİ: 22.99\n",
      "VKİ Sınıfı: Normal kilolu\n",
      "\n",
      "Tüm veriler 'vki_verileri.csv' dosyasına kaydedildi.\n"
     ]
    }
   ],
   "source": [
    "# 1.Problemin Çözümünü Buraya Yazınız\n",
    "\n",
    "# Not: CSV kullanmak TXT kullanmaktan daha mantıklı.\n",
    "\n",
    "def vki_hesapla(kilo, boy):\n",
    "    return kilo / (boy/100)**2\n",
    "\n",
    "def vki_siniflandir(vki):\n",
    "    if vki < 18.5:\n",
    "        return \"Zayıf\"\n",
    "    elif 18.5 <= vki < 25:\n",
    "        return \"Normal kilolu\"\n",
    "    elif 25 <= vki < 30:\n",
    "        return \"Fazla kilolu\"\n",
    "    elif 30 <= vki < 40:\n",
    "        return \"Obez\"\n",
    "    else:\n",
    "        return \"İleri derecede obez (morbid obez)\"\n",
    "\n",
    "giris_sayisi = int(input(\"Kaç kişi için veri gireceksiniz? \"))\n",
    "\n",
    "with open(\"vki_verileri.csv\", \"w\", encoding=\"utf-8\") as dosya:\n",
    "    for i in range(giris_sayisi):\n",
    "        print(f\"\\n{i+1}. kişi için bilgileri girin:\")\n",
    "        isim_soyisim = input(\"İsim Soyisim: \")\n",
    "        yas = int(input(\"Yaş: \"))\n",
    "        boy = float(input(\"Boy (cm): \"))\n",
    "        kilo = float(input(\"Kilo (kg): \"))\n",
    "        \n",
    "        vki = vki_hesapla(kilo, boy)\n",
    "        sinif = vki_siniflandir(vki)\n",
    "        \n",
    "        print(f\"\\n{isim_soyisim} için VKİ: {vki:.2f}\")\n",
    "        print(f\"VKİ Sınıfı: {sinif}\")\n",
    "        \n",
    "        dosya.write(f\"{isim_soyisim},{yas},{boy},{kilo},{vki:.2f},{sinif}\\n\")\n",
    "\n",
    "print(\"\\nTüm veriler 'vki_verileri.csv' dosyasına kaydedildi.\")"
   ]
  },
  {
   "attachments": {},
   "cell_type": "markdown",
   "metadata": {},
   "source": [
    "# Problem 2\n",
    "**YetBar - Smoothie Bank**\n",
    "---\n",
    "YetBar spor salonunun girişinde bulunan, insansız bir sağlıklı içecek otomatıdır. Kullanıcı çeşitli girdiler smoothie içeceğine koyacağı ürünleri belirleyebilir, fiyat hesaplaması yaptırabilir ya da sadece menüyü görüntüleyebilir.\n",
    "\n",
    "**Projenin Amacı:**\n",
    "\n",
    "*   Birbirini etkileyen ve bir kod içerisinde birden fazla defa başvurulacak fonksiyonların oluşturulup, \"fonksiyonel\" proglamlamak.\n",
    "*   Büyük programları yazarken, yazılımcı olarak yapabileceğimiz hatalardan kaçınmak için kontrol yöntemleri geliştirmek.\n",
    "*   Kullanıcı inputlarını ve yaptığımız hesapları, raporlamak/loglamak amacıyla kaydetmek.\n",
    "\n",
    "**Programdan Beklenen Çıktılar**\n",
    "* Program kullanıcıya temelde 2 farklı işlem yapma imkanı sağlar.\n",
    "> 1. Menüyü görüntüleme\n",
    "> 3. Satın alma\n",
    "* Satın alınan her içecek tarih, fiyat bilgisi ile kaydedilmeli ve her zaman ulaşılabilir olmalıdır.\n",
    "\n",
    "\n"
   ]
  },
  {
   "cell_type": "code",
   "execution_count": null,
   "metadata": {},
   "outputs": [],
   "source": [
    "# 2.Problemin Çözümünü Buraya Yazınız\n",
    "\n"
   ]
  }
 ],
 "metadata": {
  "kernelspec": {
   "display_name": "Python 3",
   "language": "python",
   "name": "python3"
  },
  "language_info": {
   "codemirror_mode": {
    "name": "ipython",
    "version": 3
   },
   "file_extension": ".py",
   "mimetype": "text/x-python",
   "name": "python",
   "nbconvert_exporter": "python",
   "pygments_lexer": "ipython3",
   "version": "3.12.3"
  },
  "orig_nbformat": 4,
  "vscode": {
   "interpreter": {
    "hash": "5026d2d6e7aaaaba093def813beadff083d8733e4a511af01735cbabd156995d"
   }
  }
 },
 "nbformat": 4,
 "nbformat_minor": 2
}
