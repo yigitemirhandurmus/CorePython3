{
  "cells": [
    {
      "cell_type": "markdown",
      "metadata": {
        "id": "xdJPVw8Qym8-"
      },
      "source": [
        " # Problem 2\n",
        " \n",
        "```test.txt``` dosyasını satır satır okuyun ve bir listede saklayınız. Daha sonra listeyi ekrana bastırınız."
      ]
    },
    {
      "cell_type": "code",
      "execution_count": 12,
      "metadata": {
        "id": "ERxLPkA1yqM9"
      },
      "outputs": [
        {
          "name": "stdout",
          "output_type": "stream",
          "text": [
            "akjfvnsdjkfv\n",
            "\n",
            "aljkfnvklsdf\n",
            "\n",
            "ojdfvodsfz\n",
            "\n",
            "jdfvnkdfs\n"
          ]
        }
      ],
      "source": [
        "#Sorunun Çözmünü Buraya Gerçekleştirebilirsiniz\n",
        "\n",
        "import os\n",
        "\n",
        "if not os.path.exists(\"test.txt\"):\n",
        "    with open(\"test.txt\", \"w\", encoding=\"utf-8\") as file:\n",
        "        pass\n",
        "\n",
        "with open(\"test.txt\", \"r+\", encoding=\"utf-8\") as file:\n",
        "    satir = file.readlines()\n",
        "    for i in satir:\n",
        "        i.strip(\"\\n\")\n",
        "        print(i)"
      ]
    }
  ],
  "metadata": {
    "colab": {
      "provenance": []
    },
    "kernelspec": {
      "display_name": "Python 3",
      "name": "python3"
    },
    "language_info": {
      "codemirror_mode": {
        "name": "ipython",
        "version": 3
      },
      "file_extension": ".py",
      "mimetype": "text/x-python",
      "name": "python",
      "nbconvert_exporter": "python",
      "pygments_lexer": "ipython3",
      "version": "3.12.3"
    }
  },
  "nbformat": 4,
  "nbformat_minor": 0
}
