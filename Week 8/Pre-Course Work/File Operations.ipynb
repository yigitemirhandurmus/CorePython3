{
 "cells": [
  {
   "cell_type": "code",
   "execution_count": null,
   "metadata": {},
   "outputs": [],
   "source": []
  },
  {
   "cell_type": "markdown",
   "metadata": {},
   "source": [
    "file.open()\n",
    "\n",
    "file.close()\n",
    "\n",
    "file.read()\n",
    "\n",
    "file.readline()\n",
    "\n",
    "file.readlines()\n",
    "\n",
    "r = read\n",
    "w = write\n",
    "a = append\n",
    "r+ = read and write\n",
    "\n",
    "with open() as file:\n",
    "    file operations here"
   ]
  }
 ],
 "metadata": {
  "language_info": {
   "name": "python"
  }
 },
 "nbformat": 4,
 "nbformat_minor": 2
}
