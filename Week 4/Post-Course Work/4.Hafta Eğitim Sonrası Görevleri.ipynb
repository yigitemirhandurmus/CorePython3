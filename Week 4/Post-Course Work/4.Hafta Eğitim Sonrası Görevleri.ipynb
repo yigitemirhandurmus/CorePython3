{
 "cells": [
  {
   "cell_type": "markdown",
   "metadata": {},
   "source": [
    "# Problem 1\n",
    "`ogrenciler` adında bir sözlük oluşturunuz. Kullanıcıdan döngü yardımıyla 3 öğrenci için veri girmesini isteyerek öğrencilerin sırasıyla okul numarası, isim, soy isim, telefon numarası ve doğum tarihi bilgilerini alınız. Aldığınız öğrenci bilgilerini yine aynı döngü yardımıyla `ogrenciler` adındaki sözlükte saklayınız. Daha sonra öğrenci bilgilerinin bulunduğu sözlük yapısını ekrana bastırınız.\n",
    "\n"
   ]
  },
  {
   "cell_type": "code",
   "execution_count": 22,
   "metadata": {},
   "outputs": [
    {
     "name": "stdout",
     "output_type": "stream",
     "text": [
      "{243: ['Ahmet', 'Yazgılı', '0510 999 99 99', '17.04.1999'], 356: ['Nilüfer', 'Soydan', '0510 888 88 88', '19.12.2002'], 934: ['Nisa', 'Yılmaz', '0510 777 77 77', '16.06.1999']}\n"
     ]
    }
   ],
   "source": [
    "# 1.Problemin Çözümünü Buraya Yazınız\n",
    "\n",
    "ogrenciler = {}\n",
    "\n",
    "for i in range(3):\n",
    "    okulNo = input(f\"{i+1}. öğrenci için okul numarasını giriniz.\")\n",
    "    isim = input(f\"{i+1}. öğrenci için isim bilgisi giriniz.\")\n",
    "    soyIsim = input(f\"{i+1}. öğrenci için soyisim bilgisi giriniz.\")\n",
    "    telefon = input(f\"{i+1}. öğrenci için telefon bilgisi giriniz.\")\n",
    "    dogum = input(f\"{i+1}. öğrenci için doğum tarihi bilgisi giriniz.\")\n",
    "\n",
    "    ogrenciler[int(okulNo)] = [isim, soyIsim, telefon, dogum]\n",
    "\n",
    "print(ogrenciler)"
   ]
  },
  {
   "cell_type": "markdown",
   "metadata": {},
   "source": [
    "# Problem 2\n",
    "\n",
    "### a - Biraz ısınarak başlayalım!\n",
    "\n",
    "```\n",
    "numbers = [5,10,10,15,15,15,20,20,20,20]\n",
    "```\n",
    "\n",
    "Yukarıda `numbers` adında 10 elemanlı bir liste verilmiştir. Bu listenin her elemanını kontrol eden ve tekrar eden elemanları bir kez olacak şekilde başka bir listeye kopyalayan bir program yazınız. Son olarak oluşturduğunuz listeyi ekrana bastırınız.\n",
    "\n",
    "\n",
    "\n",
    "\n",
    "```\n",
    ">Output\n",
    "[5, 10, 15, 20]\n",
    "```\n"
   ]
  },
  {
   "cell_type": "code",
   "execution_count": 47,
   "metadata": {},
   "outputs": [
    {
     "name": "stdout",
     "output_type": "stream",
     "text": [
      "[5, 10, 15, 20]\n"
     ]
    }
   ],
   "source": [
    "# 2.Problemin a Şıkkının Çözümünü Buraya Yazınız\n",
    "\n",
    "numbers = [5,10,10,15,15,15,20,20,20,20]\n",
    "\n",
    "xNumbers = []\n",
    "\n",
    "for x in numbers:\n",
    "    if x not in xNumbers:\n",
    "        xNumbers.append(x)\n",
    "\n",
    "print(xNumbers)"
   ]
  },
  {
   "cell_type": "markdown",
   "metadata": {},
   "source": [
    "### 🌶️ b) Hadi işi biraz daha zorlaştıralım! \n",
    "\n",
    "\n",
    "Şimdiyse senden `numbers` isimli listedeki tekrar eden elemanları `repeatNumbers` adındaki listeye; tekrar etmeyen elemanları `uniqueNumbers`adındaki listeye kopyalayan yazmanı ve listeleri ekrana bastırmanı bekliyoruz\n",
    "\n",
    "```\n",
    ">Output\n",
    "Tekrar Eden Elemanlar: [10, 10, 15, 15, 15, 20, 20, 20, 20]\n",
    "Tekrar Etmeyen Elemanlar: [5]\n",
    "```"
   ]
  },
  {
   "cell_type": "code",
   "execution_count": 49,
   "metadata": {},
   "outputs": [
    {
     "name": "stdout",
     "output_type": "stream",
     "text": [
      "Tekrar Eden Elemanlar: [10, 10, 15, 15, 15, 20, 20, 20, 20]\n",
      "Tekrar Etmeyen Elemanlar: [5]\n"
     ]
    }
   ],
   "source": [
    "# 2.Problemin b Şıkkının Çözümünü Buraya Yazınız\n",
    "\n",
    "numbers = [5,10,10,15,15,15,20,20,20,20]\n",
    "\n",
    "repeatNumbers = []\n",
    "uniqueNumbers = []\n",
    "\n",
    "count_dict = {}\n",
    "\n",
    "for number in numbers:\n",
    "    if number in count_dict:\n",
    "        count_dict[number] += 1\n",
    "    else:\n",
    "        count_dict[number] = 1\n",
    "\n",
    "for number, count in count_dict.items():\n",
    "    if count == 1:\n",
    "        uniqueNumbers.append(number)\n",
    "    else:\n",
    "        repeatNumbers.extend([number] * count)\n",
    "\n",
    "print(\"Tekrar Eden Elemanlar:\", repeatNumbers)\n",
    "print(\"Tekrar Etmeyen Elemanlar:\", uniqueNumbers)"
   ]
  },
  {
   "cell_type": "markdown",
   "metadata": {},
   "source": [
    "# Problem 3\n",
    "sn1 = {1,2,3,4,5}\n",
    "\n",
    "sn2 = {4,5,6,7,8}\n",
    "\n",
    " Verilen 2 adet küme için kesişimlerini, farklarını ve birleşimlerini bulunuz. "
   ]
  },
  {
   "cell_type": "code",
   "execution_count": 55,
   "metadata": {},
   "outputs": [
    {
     "name": "stdout",
     "output_type": "stream",
     "text": [
      "{4, 5}\n",
      "{1, 2, 3}\n",
      "{1, 2, 3, 4, 5, 6, 7, 8}\n"
     ]
    }
   ],
   "source": [
    "# 3.Problemin Çözümünü Buraya Yazınız\n",
    "\n",
    "# intersection\n",
    "\n",
    "sn1 = {1,2,3,4,5}\n",
    "\n",
    "sn2 = {4,5,6,7,8}\n",
    "\n",
    "print(sn1.intersection(sn2))\n",
    "\n",
    "print(sn1.difference(sn2))\n",
    "\n",
    "print(sn1.union(sn2))"
   ]
  },
  {
   "cell_type": "markdown",
   "metadata": {},
   "source": [
    "# Problem 4\n",
    "\n",
    "Buradaki işlemlerimizin tamamı stringler içindir. Aşağıda verilecek olan metodlar için kendinizin örnek yaratması gerekmektedir. \n",
    "\n",
    "Örneğin `upper` için `string` değişkeni oluştururken` k = \"BAC\"` şeklinde oluşturmayınız. Bunun yerine k değişkenini `k = \"bac`\" şeklinde oluşturmanız `upper` metodundaki değişimi görebilmeniz için daha iyi olacaktır.\n",
    "\n",
    "Bütün metodlardaki değişimin gözle görülür şekilde değişimi beklenmektedir.\n",
    "\n",
    "\n",
    "1- capitalize(), lower(), upper(), swapcase(), title(), replace()\n",
    "\n",
    "2- endswith(), startswith(), find(), index(), count()\n",
    "\n",
    "3- split(), strip(), join(), islower(), isalpha(), isdigit()\n",
    "\n",
    "\n",
    "Yukarıdaki `string` metodlarındaki değişimleri görebildiğimiz bir program yazınız.\n"
   ]
  },
  {
   "cell_type": "code",
   "execution_count": 45,
   "metadata": {},
   "outputs": [
    {
     "name": "stdout",
     "output_type": "stream",
     "text": [
      " the quick brown fox jumps over the lazy dog.\n",
      " the quick brown fox jumps over the lazy dog.\n",
      " THE QUICK BROWN FOX JUMPS OVER THE LAZY DOG.\n",
      " THE QUICK BROWN FOX JUMPS OVER THE LAZY DOG.\n",
      " The Quick Brown Fox Jumps Over The Lazy Dog.\n",
      " whe quick brown fox jumps over whe lazy dog.\n",
      "True\n",
      "False\n",
      "-1\n",
      "1\n",
      "4\n",
      "['', 'the', 'quick', 'brown', 'fox', 'jumps', 'over', 'the', 'lazy', 'dog.']\n",
      "he quick brown fox jumps over the lazy dog.\n",
      "True\n",
      "False\n",
      "False\n"
     ]
    }
   ],
   "source": [
    "# 4.Problemin Çözümünü Buraya Yazınız\n",
    "\n",
    "k = \" the quick brown fox jumps over the lazy dog.\"\n",
    "\n",
    "print(k.capitalize())\n",
    "\n",
    "print(k.lower())\n",
    "\n",
    "print(k.upper())\n",
    "\n",
    "print(k.swapcase())\n",
    "\n",
    "print(k.title())\n",
    "\n",
    "print(k.replace(\"t\", \"w\"))\n",
    "\n",
    "print(k.endswith(\".\"))\n",
    "\n",
    "print(k.startswith(\"w\"))\n",
    "\n",
    "print(k.find(\",\")) # find() returns -1 if the input cannot be found, whereas index() returns an error.\n",
    "\n",
    "print(k.index(\"t\"))\n",
    "\n",
    "print(k.count(\"o\"))\n",
    "\n",
    "print(k.split(\" \"))\n",
    "\n",
    "print(k.strip(\"t \"))\n",
    "\n",
    "print(k.islower())\n",
    "\n",
    "print(k.isalpha()) # isalpha() method returns True if all the characters are alphabet letters. We have spaces and dots in this case, so it returns False instead.\n",
    "\n",
    "print(k.isdigit())"
   ]
  }
 ],
 "metadata": {
  "kernelspec": {
   "display_name": "Python 3.10.5 64-bit",
   "language": "python",
   "name": "python3"
  },
  "language_info": {
   "codemirror_mode": {
    "name": "ipython",
    "version": 3
   },
   "file_extension": ".py",
   "mimetype": "text/x-python",
   "name": "python",
   "nbconvert_exporter": "python",
   "pygments_lexer": "ipython3",
   "version": "3.12.3"
  },
  "orig_nbformat": 4,
  "vscode": {
   "interpreter": {
    "hash": "5026d2d6e7aaaaba093def813beadff083d8733e4a511af01735cbabd156995d"
   }
  }
 },
 "nbformat": 4,
 "nbformat_minor": 2
}
